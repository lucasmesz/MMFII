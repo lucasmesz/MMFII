{
 "cells": [
  {
   "cell_type": "code",
   "execution_count": 1,
   "metadata": {},
   "outputs": [],
   "source": [
    "import numpy as np\n",
    "import matplotlib.pyplot as plt\n",
    "import pandas as pd\n",
    "%matplotlib inline\n",
    "import seaborn as sns\n",
    "import scipy as sci\n",
    "import time"
   ]
  },
  {
   "cell_type": "code",
   "execution_count": 2,
   "metadata": {},
   "outputs": [],
   "source": [
    "##Parâmetros do problema####\n",
    "X0=30\n",
    "K=28\n",
    "T=40/252  #fração do ano em dia útil\n",
    "r=0.035\n",
    "delta=0.01\n",
    "mu=0.045\n",
    "sigma=0.25\n"
   ]
  },
  {
   "cell_type": "code",
   "execution_count": 3,
   "metadata": {},
   "outputs": [
    {
     "name": "stdout",
     "output_type": "stream",
     "text": [
      "0.38854527561940966\n"
     ]
    }
   ],
   "source": [
    "######Solucao BMS#####\n",
    "t=0\n",
    "tau=T-t\n",
    "\n",
    "d1= (np.log(X0/K) + ((r-delta) +(0.5*np.power(sigma,2)))*tau)/(sigma*np.sqrt(tau))\n",
    "d2= d1 -sigma*np.sqrt(tau)\n",
    "\n",
    "va= K*np.exp(-r*tau)*sci.stats.norm.cdf(-d2) - X0*np.exp(-delta*tau)*sci.stats.norm.cdf(-d1)\n",
    "print(va)"
   ]
  },
  {
   "cell_type": "code",
   "execution_count": 5,
   "metadata": {},
   "outputs": [],
   "source": [
    "###Funcao da Simulacao de Monte Carlo####\n",
    "def simulacao(i):\n",
    "    np.random.seed(20)\n",
    "    v_mc=[]\n",
    "    start=time.time()\n",
    "    for i in range(i):\n",
    "        x=X0*np.exp(((r-delta)-0.5*sigma**2)*tau + sigma*np.sqrt(tau)*np.random.normal(0,1))\n",
    "        v=np.exp(-r*tau)*np.maximum(K-x,0)\n",
    "        v_mc.append(v)\n",
    "    \n",
    "    #valor da opção por simulação\n",
    "    vn=np.mean(v_mc)\n",
    "    #medida de erro \n",
    "    erro= 100*np.absolute(va-vn)/va\n",
    "    #tempo de cpu\n",
    "    cpu=  time.time() - start\n",
    "    ## Intervalo de confiança\n",
    "    se= np.std(v_mc)/np.sqrt(len(v_mc))\n",
    "    ic=se*sci.stats.t.ppf((1+0.95)/2,len(v_mc)-1)\n",
    "    \n",
    "    return[len(v_mc),va,vn,erro,cpu,vn+ic,vn-ic]\n"
   ]
  },
  {
   "cell_type": "code",
   "execution_count": 6,
   "metadata": {},
   "outputs": [],
   "source": [
    "#####Loop para todas as simulacoes#####\n",
    "numero=[]\n",
    "valorana=[]\n",
    "valornum=[]\n",
    "erro_perc=[]\n",
    "tempo_cpu=[]\n",
    "ic_superior=[]\n",
    "ic_inferior=[]\n",
    "for j in [1000,2000,5000,10000,50000,100000]:\n",
    "    solucao=simulacao(j)\n",
    "    numero.append(solucao[0])\n",
    "    valorana.append(solucao[1])\n",
    "    valornum.append(solucao[2])\n",
    "    erro_perc.append(solucao[3])\n",
    "    tempo_cpu.append(solucao[4])\n",
    "    ic_superior.append(solucao[5])\n",
    "    ic_inferior.append(solucao[6])\n",
    "\n",
    "    \n",
    "                    \n"
   ]
  },
  {
   "cell_type": "code",
   "execution_count": 7,
   "metadata": {
    "scrolled": true
   },
   "outputs": [
    {
     "data": {
      "text/html": [
       "<div>\n",
       "<style scoped>\n",
       "    .dataframe tbody tr th:only-of-type {\n",
       "        vertical-align: middle;\n",
       "    }\n",
       "\n",
       "    .dataframe tbody tr th {\n",
       "        vertical-align: top;\n",
       "    }\n",
       "\n",
       "    .dataframe thead th {\n",
       "        text-align: right;\n",
       "    }\n",
       "</style>\n",
       "<table border=\"1\" class=\"dataframe\">\n",
       "  <thead>\n",
       "    <tr style=\"text-align: right;\">\n",
       "      <th></th>\n",
       "      <th>N_Final</th>\n",
       "      <th>Valor_Analitico</th>\n",
       "      <th>Valor_Numerico</th>\n",
       "      <th>Medida_Erro</th>\n",
       "      <th>Tempo_CPU</th>\n",
       "      <th>IC_Superior</th>\n",
       "      <th>IC_Inferior</th>\n",
       "    </tr>\n",
       "  </thead>\n",
       "  <tbody>\n",
       "    <tr>\n",
       "      <td>0</td>\n",
       "      <td>1000</td>\n",
       "      <td>0.388545</td>\n",
       "      <td>0.383462</td>\n",
       "      <td>1.308238</td>\n",
       "      <td>0.030380</td>\n",
       "      <td>0.438129</td>\n",
       "      <td>0.328795</td>\n",
       "    </tr>\n",
       "    <tr>\n",
       "      <td>1</td>\n",
       "      <td>2000</td>\n",
       "      <td>0.388545</td>\n",
       "      <td>0.387694</td>\n",
       "      <td>0.219080</td>\n",
       "      <td>0.056593</td>\n",
       "      <td>0.427675</td>\n",
       "      <td>0.347713</td>\n",
       "    </tr>\n",
       "    <tr>\n",
       "      <td>2</td>\n",
       "      <td>5000</td>\n",
       "      <td>0.388545</td>\n",
       "      <td>0.384018</td>\n",
       "      <td>1.165265</td>\n",
       "      <td>0.090043</td>\n",
       "      <td>0.408998</td>\n",
       "      <td>0.359037</td>\n",
       "    </tr>\n",
       "    <tr>\n",
       "      <td>3</td>\n",
       "      <td>10000</td>\n",
       "      <td>0.388545</td>\n",
       "      <td>0.378807</td>\n",
       "      <td>2.506257</td>\n",
       "      <td>0.207069</td>\n",
       "      <td>0.396567</td>\n",
       "      <td>0.361048</td>\n",
       "    </tr>\n",
       "    <tr>\n",
       "      <td>4</td>\n",
       "      <td>50000</td>\n",
       "      <td>0.388545</td>\n",
       "      <td>0.390416</td>\n",
       "      <td>0.481435</td>\n",
       "      <td>1.034850</td>\n",
       "      <td>0.398500</td>\n",
       "      <td>0.382331</td>\n",
       "    </tr>\n",
       "    <tr>\n",
       "      <td>5</td>\n",
       "      <td>100000</td>\n",
       "      <td>0.388545</td>\n",
       "      <td>0.386218</td>\n",
       "      <td>0.598922</td>\n",
       "      <td>1.922116</td>\n",
       "      <td>0.391898</td>\n",
       "      <td>0.380539</td>\n",
       "    </tr>\n",
       "  </tbody>\n",
       "</table>\n",
       "</div>"
      ],
      "text/plain": [
       "   N_Final  Valor_Analitico  Valor_Numerico  Medida_Erro  Tempo_CPU  \\\n",
       "0     1000         0.388545        0.383462     1.308238   0.030380   \n",
       "1     2000         0.388545        0.387694     0.219080   0.056593   \n",
       "2     5000         0.388545        0.384018     1.165265   0.090043   \n",
       "3    10000         0.388545        0.378807     2.506257   0.207069   \n",
       "4    50000         0.388545        0.390416     0.481435   1.034850   \n",
       "5   100000         0.388545        0.386218     0.598922   1.922116   \n",
       "\n",
       "   IC_Superior  IC_Inferior  \n",
       "0     0.438129     0.328795  \n",
       "1     0.427675     0.347713  \n",
       "2     0.408998     0.359037  \n",
       "3     0.396567     0.361048  \n",
       "4     0.398500     0.382331  \n",
       "5     0.391898     0.380539  "
      ]
     },
     "execution_count": 7,
     "metadata": {},
     "output_type": "execute_result"
    }
   ],
   "source": [
    "#####Datframe para a Analise\n",
    "df=pd.DataFrame(numero)\n",
    "df.columns=['N_Final']\n",
    "df['Valor_Analitico']=valorana\n",
    "df['Valor_Numerico']=valornum\n",
    "df['Medida_Erro']=erro_perc\n",
    "df['Tempo_CPU']=tempo_cpu\n",
    "df['IC_Superior']=ic_superior\n",
    "df['IC_Inferior']=ic_inferior\n",
    "df\n"
   ]
  },
  {
   "cell_type": "code",
   "execution_count": 9,
   "metadata": {},
   "outputs": [
    {
     "data": {
      "text/plain": [
       "[]"
      ]
     },
     "execution_count": 9,
     "metadata": {},
     "output_type": "execute_result"
    },
    {
     "data": {
      "image/png": "[encoded data removed]",
      "text/plain": [
       "<Figure size 1080x360 with 3 Axes>"
      ]
     },
     "metadata": {
      "needs_background": "light"
     },
     "output_type": "display_data"
    }
   ],
   "source": [
    "#####Figuras finais da Lista#####\n",
    "fig, (ax1,ax2,ax3)= plt.subplots(1,3, figsize=(15,5))\n",
    "sns.despine(left=True)\n",
    "\n",
    "ax1.plot(df.index, df.Valor_Analitico, color='black', ls='--' )\n",
    "ax1.errorbar(df.index,df.Valor_Numerico, yerr=df.IC_Superior-df.Valor_Numerico, fmt='d', color='navy',\n",
    "             ecolor='skyblue', elinewidth=3, capsize=0)\n",
    "ax1.legend(('Analítico', 'Monte Carlo'), loc='upper right', shadow=True)\n",
    "ax1.set_xlabel('Número de Simulações')\n",
    "ax1.set_ylabel('Valor da Opção')\n",
    "ax1.set_xticklabels([0,1000,2000,5000,10000,50000,100000])\n",
    "ax1.set_title('MC e Intervalo de Confiança de 95%')\n",
    "\n",
    "ax2.bar(df.index, df.Medida_Erro)\n",
    "ax2.set_xlabel('Número de Simulações')\n",
    "ax2.set_ylabel('Erro (%)')\n",
    "ax2.set_xticklabels([0,1000,2000,5000,10000,50000,100000])\n",
    "ax2.set_title('Medida de Erro Númerico')\n",
    "\n",
    "ax3.bar(df.index,df.Tempo_CPU)\n",
    "ax3.set_xlabel('Número de Simulações')\n",
    "ax3.set_ylabel('Tempo de CPU')\n",
    "ax3.set_xticklabels([0,1000,2000,5000,10000,50000,100000])\n",
    "ax3.set_title('Tempo de Máquina')\n",
    "\n",
    "\n",
    "\n",
    "plt.plot()"
   ]
  },
  {
   "cell_type": "code",
   "execution_count": null,
   "metadata": {},
   "outputs": [],
   "source": []
  }
 ],
 "metadata": {
  "kernelspec": {
   "display_name": "Python 3",
   "language": "python",
   "name": "python3"
  },
  "language_info": {
   "codemirror_mode": {
    "name": "ipython",
    "version": 3
   },
   "file_extension": ".py",
   "mimetype": "text/x-python",
   "name": "python",
   "nbconvert_exporter": "python",
   "pygments_lexer": "ipython3",
   "version": "3.7.4"
  }
 },
 "nbformat": 4,
 "nbformat_minor": 2
}
